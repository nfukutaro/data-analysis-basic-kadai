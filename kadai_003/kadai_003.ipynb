{
  "nbformat": 4,
  "nbformat_minor": 0,
  "metadata": {
    "colab": {
      "provenance": []
    },
    "kernelspec": {
      "name": "python3",
      "display_name": "Python 3"
    },
    "language_info": {
      "name": "python"
    }
  },
  "cells": [
    {
      "cell_type": "code",
      "execution_count": 8,
      "metadata": {
        "colab": {
          "base_uri": "https://localhost:8080/"
        },
        "id": "_nEkhnKyzl9v",
        "outputId": "0cc638f2-e828-4311-b0ee-f16184e4080e"
      },
      "outputs": [
        {
          "output_type": "stream",
          "name": "stdout",
          "text": [
            "[[ 4  5  6  7]\n",
            " [12 17 22 27]\n",
            " [20 29 38 47]]\n"
          ]
        },
        {
          "output_type": "execute_result",
          "data": {
            "text/plain": [
              "47"
            ]
          },
          "metadata": {},
          "execution_count": 8
        }
      ],
      "source": [
        "# numpyの読み込み\n",
        "import numpy as np\n",
        "\n",
        "# AとBの行列を格納\n",
        "A = np.array([[0, 1], [2, 3], [4, 5]])\n",
        "B = np.array([[0, 1, 2, 3], [4, 5, 6, 7]])\n",
        "\n",
        "# 行列の積を計算\n",
        "array_product= np.dot(A, B)\n",
        "\n",
        "# 行列の積の計算結果を表示\n",
        "print(array_product)\n",
        "\n",
        "# 行列の要素の最大値を求める\n",
        "array_product.max()\n"
      ]
    }
  ]
}